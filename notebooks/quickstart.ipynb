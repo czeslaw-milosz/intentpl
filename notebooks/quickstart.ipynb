{
 "cells": [
  {
   "cell_type": "code",
   "execution_count": 1,
   "id": "48c40d33",
   "metadata": {},
   "outputs": [],
   "source": [
    "import numpy as np\n",
    "import pandas as pd\n",
    "import seaborn as sns\n",
    "import transformers\n",
    "import evaluate\n",
    "from datasets import load_dataset\n",
    "from collections import Counter\n",
    "from matplotlib import pyplot as plt\n",
    "from transformers import AutoTokenizer, AutoModel, DataCollatorWithPadding\n",
    "\n",
    "%matplotlib inline"
   ]
  },
  {
   "cell_type": "code",
   "execution_count": 2,
   "id": "6f74cdec",
   "metadata": {},
   "outputs": [
    {
     "name": "stderr",
     "output_type": "stream",
     "text": [
      "Found cached dataset massive (/home/rj/.cache/huggingface/datasets/AmazonScience___massive/pl-PL/1.0.0/71d360eb7d7a18565ff8c10609cebf714fce3cc390e173ba5b02ffd48543cdc1)\n"
     ]
    },
    {
     "data": {
      "application/vnd.jupyter.widget-view+json": {
       "model_id": "",
       "version_major": 2,
       "version_minor": 0
      },
      "text/plain": [
       "  0%|          | 0/3 [00:00<?, ?it/s]"
      ]
     },
     "metadata": {},
     "output_type": "display_data"
    }
   ],
   "source": [
    "dataset = load_dataset(\"AmazonScience/massive\", \"pl-PL\")"
   ]
  },
  {
   "cell_type": "code",
   "execution_count": 3,
   "id": "347d7941",
   "metadata": {},
   "outputs": [
    {
     "data": {
      "text/plain": [
       "datasets.dataset_dict.DatasetDict"
      ]
     },
     "execution_count": 3,
     "metadata": {},
     "output_type": "execute_result"
    }
   ],
   "source": [
    "type(dataset)"
   ]
  },
  {
   "cell_type": "code",
   "execution_count": 4,
   "id": "aff3e00b",
   "metadata": {},
   "outputs": [],
   "source": [
    "for subset_name in dataset:\n",
    "    dataset[subset_name] = dataset[subset_name].remove_columns([\n",
    "        \"locale\",\n",
    "        \"scenario\",\n",
    "        \"annot_utt\",\n",
    "        \"worker_id\",\n",
    "        \"slot_method\",\n",
    "        \"judgments\"\n",
    "    ])\n",
    "    dataset[subset_name] = dataset[subset_name].rename_column(\"intent\", \"label\")\n",
    "    dataset[subset_name] = dataset[subset_name].rename_column(\"utt\", \"text\")"
   ]
  },
  {
   "cell_type": "code",
   "execution_count": 5,
   "id": "de43f3b1",
   "metadata": {},
   "outputs": [
    {
     "data": {
      "text/plain": [
       "Dataset({\n",
       "    features: ['id', 'partition', 'label', 'text'],\n",
       "    num_rows: 11514\n",
       "})"
      ]
     },
     "execution_count": 5,
     "metadata": {},
     "output_type": "execute_result"
    }
   ],
   "source": [
    "dataset[\"train\"]"
   ]
  },
  {
   "cell_type": "code",
   "execution_count": 6,
   "id": "560009ee",
   "metadata": {},
   "outputs": [
    {
     "data": {
      "text/plain": [
       "{'id': '33',\n",
       " 'partition': 'train',\n",
       " 'label': 32,\n",
       " 'text': 'sprawdź kiedy zaczyna się przedstawienie'}"
      ]
     },
     "execution_count": 6,
     "metadata": {},
     "output_type": "execute_result"
    }
   ],
   "source": [
    "dataset[\"train\"][21]"
   ]
  },
  {
   "cell_type": "code",
   "execution_count": 7,
   "id": "f80d63a8",
   "metadata": {},
   "outputs": [
    {
     "name": "stdout",
     "output_type": "stream",
     "text": [
      "Training data: 11514 examples; validation: 2033 examples; test: 2974 examples.\n"
     ]
    }
   ],
   "source": [
    "print(f\"Training data: {len(dataset['train'])} examples; validation: {len(dataset['validation'])} examples; test: {len(dataset['test'])} examples.\")"
   ]
  },
  {
   "cell_type": "code",
   "execution_count": 8,
   "id": "f1817126",
   "metadata": {},
   "outputs": [
    {
     "data": {
      "text/plain": [
       "{'train': Counter({50: 810,\n",
       "          45: 639,\n",
       "          13: 573,\n",
       "          32: 566,\n",
       "          12: 555,\n",
       "          49: 544,\n",
       "          22: 503,\n",
       "          44: 418,\n",
       "          33: 354,\n",
       "          0: 350,\n",
       "          30: 312,\n",
       "          36: 283,\n",
       "          47: 283,\n",
       "          26: 267,\n",
       "          42: 227,\n",
       "          9: 207,\n",
       "          59: 198,\n",
       "          58: 193,\n",
       "          6: 190,\n",
       "          48: 182,\n",
       "          21: 177,\n",
       "          19: 173,\n",
       "          53: 164,\n",
       "          57: 154,\n",
       "          40: 153,\n",
       "          4: 152,\n",
       "          20: 150,\n",
       "          10: 142,\n",
       "          16: 135,\n",
       "          23: 130,\n",
       "          2: 127,\n",
       "          17: 127,\n",
       "          1: 125,\n",
       "          56: 124,\n",
       "          3: 122,\n",
       "          11: 117,\n",
       "          43: 113,\n",
       "          51: 112,\n",
       "          46: 110,\n",
       "          14: 110,\n",
       "          27: 108,\n",
       "          54: 100,\n",
       "          34: 93,\n",
       "          52: 78,\n",
       "          39: 78,\n",
       "          31: 76,\n",
       "          18: 76,\n",
       "          25: 72,\n",
       "          55: 70,\n",
       "          15: 54,\n",
       "          38: 52,\n",
       "          8: 52,\n",
       "          35: 52,\n",
       "          28: 51,\n",
       "          24: 48,\n",
       "          5: 25,\n",
       "          41: 22,\n",
       "          29: 18,\n",
       "          7: 14,\n",
       "          37: 4}),\n",
       " 'validation': Counter({50: 131,\n",
       "          13: 126,\n",
       "          45: 123,\n",
       "          12: 105,\n",
       "          32: 102,\n",
       "          49: 90,\n",
       "          22: 82,\n",
       "          44: 73,\n",
       "          0: 64,\n",
       "          33: 63,\n",
       "          26: 55,\n",
       "          47: 50,\n",
       "          59: 50,\n",
       "          30: 47,\n",
       "          36: 46,\n",
       "          9: 41,\n",
       "          53: 37,\n",
       "          42: 36,\n",
       "          20: 35,\n",
       "          58: 34,\n",
       "          10: 32,\n",
       "          48: 31,\n",
       "          19: 31,\n",
       "          57: 30,\n",
       "          54: 27,\n",
       "          6: 26,\n",
       "          21: 25,\n",
       "          2: 25,\n",
       "          3: 24,\n",
       "          4: 24,\n",
       "          1: 22,\n",
       "          51: 22,\n",
       "          11: 22,\n",
       "          16: 20,\n",
       "          34: 19,\n",
       "          23: 19,\n",
       "          27: 18,\n",
       "          40: 17,\n",
       "          31: 17,\n",
       "          43: 16,\n",
       "          17: 16,\n",
       "          46: 15,\n",
       "          25: 15,\n",
       "          52: 14,\n",
       "          56: 14,\n",
       "          39: 13,\n",
       "          14: 12,\n",
       "          18: 12,\n",
       "          55: 12,\n",
       "          38: 9,\n",
       "          28: 8,\n",
       "          35: 8,\n",
       "          24: 7,\n",
       "          41: 5,\n",
       "          8: 5,\n",
       "          15: 5,\n",
       "          5: 2,\n",
       "          7: 2,\n",
       "          37: 2}),\n",
       " 'test': Counter({50: 209,\n",
       "          45: 176,\n",
       "          12: 169,\n",
       "          13: 156,\n",
       "          49: 141,\n",
       "          32: 126,\n",
       "          22: 124,\n",
       "          44: 119,\n",
       "          33: 114,\n",
       "          0: 88,\n",
       "          47: 81,\n",
       "          9: 72,\n",
       "          36: 72,\n",
       "          30: 67,\n",
       "          58: 63,\n",
       "          26: 57,\n",
       "          53: 52,\n",
       "          42: 51,\n",
       "          59: 51,\n",
       "          40: 43,\n",
       "          6: 43,\n",
       "          48: 41,\n",
       "          20: 41,\n",
       "          21: 39,\n",
       "          10: 39,\n",
       "          1: 36,\n",
       "          43: 36,\n",
       "          56: 36,\n",
       "          3: 35,\n",
       "          57: 35,\n",
       "          2: 35,\n",
       "          51: 35,\n",
       "          23: 34,\n",
       "          46: 32,\n",
       "          19: 31,\n",
       "          18: 27,\n",
       "          34: 26,\n",
       "          4: 26,\n",
       "          17: 26,\n",
       "          27: 25,\n",
       "          39: 25,\n",
       "          54: 23,\n",
       "          16: 22,\n",
       "          52: 21,\n",
       "          31: 21,\n",
       "          55: 20,\n",
       "          25: 19,\n",
       "          8: 18,\n",
       "          38: 15,\n",
       "          11: 15,\n",
       "          14: 13,\n",
       "          15: 12,\n",
       "          35: 11,\n",
       "          24: 10,\n",
       "          29: 6,\n",
       "          28: 6,\n",
       "          7: 4,\n",
       "          41: 3,\n",
       "          5: 1})}"
      ]
     },
     "execution_count": 8,
     "metadata": {},
     "output_type": "execute_result"
    }
   ],
   "source": [
    "intent_count = {\n",
    "    subset_name: Counter(text[\"label\"] for text in dataset[subset_name])\n",
    "    for subset_name in dataset.keys()\n",
    "}\n",
    "intent_count"
   ]
  },
  {
   "cell_type": "code",
   "execution_count": 9,
   "id": "7cfddcd2",
   "metadata": {},
   "outputs": [
    {
     "data": {
      "text/plain": [
       "[Text(0.5, 1.0, 'Intent distribution in training data')]"
      ]
     },
     "execution_count": 9,
     "metadata": {},
     "output_type": "execute_result"
    },
    {
     "data": {
      "image/png": "[encoded data removed]",
      "text/plain": [
       "<Figure size 640x480 with 1 Axes>"
      ]
     },
     "metadata": {},
     "output_type": "display_data"
    }
   ],
   "source": [
    "sns.histplot([text[\"label\"] for text in dataset[\"train\"]]).set(title = \"Intent distribution in training data\")"
   ]
  },
  {
   "cell_type": "code",
   "execution_count": 10,
   "id": "7d31ef0d",
   "metadata": {},
   "outputs": [
    {
     "data": {
      "text/plain": [
       "[Text(0.5, 1.0, 'Intent distribution in validation data')]"
      ]
     },
     "execution_count": 10,
     "metadata": {},
     "output_type": "execute_result"
    },
    {
     "data": {
      "image/png": "[encoded data removed]",
      "text/plain": [
       "<Figure size 640x480 with 1 Axes>"
      ]
     },
     "metadata": {},
     "output_type": "display_data"
    }
   ],
   "source": [
    "sns.histplot([text[\"label\"] for text in dataset[\"validation\"]]).set(title = \"Intent distribution in validation data\")"
   ]
  },
  {
   "cell_type": "code",
   "execution_count": 11,
   "id": "9d31d55c",
   "metadata": {},
   "outputs": [
    {
     "data": {
      "text/plain": [
       "[Text(0.5, 1.0, 'Intent distribution in test data')]"
      ]
     },
     "execution_count": 11,
     "metadata": {},
     "output_type": "execute_result"
    },
    {
     "data": {
      "image/png": "[encoded data removed]",
      "text/plain": [
       "<Figure size 640x480 with 1 Axes>"
      ]
     },
     "metadata": {},
     "output_type": "display_data"
    }
   ],
   "source": [
    "sns.histplot([text[\"label\"] for text in dataset[\"test\"]]).set(title = \"Intent distribution in test data\")"
   ]
  },
  {
   "cell_type": "markdown",
   "id": "497925e3",
   "metadata": {},
   "source": [
    "## Try to run a model for classification"
   ]
  },
  {
   "cell_type": "code",
   "execution_count": 12,
   "id": "39940345",
   "metadata": {},
   "outputs": [],
   "source": [
    "tokenizer = AutoTokenizer.from_pretrained(\"allegro/herbert-large-cased\")"
   ]
  },
  {
   "cell_type": "code",
   "execution_count": 20,
   "id": "3ef11eb9",
   "metadata": {},
   "outputs": [],
   "source": [
    "def preprocess_function(examples):\n",
    "    return tokenizer(examples[\"text\"], truncation=True)"
   ]
  },
  {
   "cell_type": "code",
   "execution_count": 21,
   "id": "26e28689",
   "metadata": {},
   "outputs": [
    {
     "data": {
      "application/vnd.jupyter.widget-view+json": {
       "model_id": "",
       "version_major": 2,
       "version_minor": 0
      },
      "text/plain": [
       "Map:   0%|          | 0/11514 [00:00<?, ? examples/s]"
      ]
     },
     "metadata": {},
     "output_type": "display_data"
    },
    {
     "data": {
      "application/vnd.jupyter.widget-view+json": {
       "model_id": "",
       "version_major": 2,
       "version_minor": 0
      },
      "text/plain": [
       "Map:   0%|          | 0/2033 [00:00<?, ? examples/s]"
      ]
     },
     "metadata": {},
     "output_type": "display_data"
    },
    {
     "data": {
      "application/vnd.jupyter.widget-view+json": {
       "model_id": "",
       "version_major": 2,
       "version_minor": 0
      },
      "text/plain": [
       "Map:   0%|          | 0/2974 [00:00<?, ? examples/s]"
      ]
     },
     "metadata": {},
     "output_type": "display_data"
    }
   ],
   "source": [
    "tokenized_dataset = dataset.map(preprocess_function, batched=True)"
   ]
  },
  {
   "cell_type": "code",
   "execution_count": 22,
   "id": "24ce40ec",
   "metadata": {},
   "outputs": [],
   "source": [
    "data_collator = DataCollatorWithPadding(tokenizer=tokenizer)"
   ]
  },
  {
   "cell_type": "code",
   "execution_count": 23,
   "id": "ee00969a",
   "metadata": {},
   "outputs": [],
   "source": [
    "accuracy = evaluate.load(\"accuracy\")"
   ]
  },
  {
   "cell_type": "code",
   "execution_count": 24,
   "id": "2fdfdcba",
   "metadata": {},
   "outputs": [],
   "source": [
    "def compute_metrics(eval_pred):\n",
    "    predictions, labels = eval_pred\n",
    "    predictions = np.argmax(predictions, axis=1)\n",
    "    return accuracy.compute(predictions=predictions, references=labels)"
   ]
  },
  {
   "cell_type": "code",
   "execution_count": 25,
   "id": "9828d74e",
   "metadata": {},
   "outputs": [
    {
     "data": {
      "text/plain": [
       "60"
      ]
     },
     "execution_count": 25,
     "metadata": {},
     "output_type": "execute_result"
    }
   ],
   "source": [
    "num_labels = len(set(dataset[\"train\"][\"label\"]))\n",
    "num_labels"
   ]
  },
  {
   "cell_type": "code",
   "execution_count": 37,
   "id": "2a5f5354",
   "metadata": {},
   "outputs": [],
   "source": [
    "class_label = dataset[\"train\"].features[\"label\"]\n",
    "id2label = {i: label \n",
    "            for label, i in zip(\n",
    "                (class_label.names),\n",
    "                (class_label.str2int(name) for name in class_label.names))\n",
    "           }\n",
    "label2id = {v: k for k, v in id2label.items()}"
   ]
  },
  {
   "cell_type": "code",
   "execution_count": 40,
   "id": "3a3a2d68",
   "metadata": {},
   "outputs": [
    {
     "name": "stderr",
     "output_type": "stream",
     "text": [
      "Some weights of the model checkpoint at allegro/herbert-large-cased were not used when initializing BertForSequenceClassification: ['cls.predictions.bias', 'cls.sso.sso_relationship.bias', 'cls.predictions.decoder.bias', 'cls.predictions.transform.dense.weight', 'cls.predictions.transform.LayerNorm.weight', 'cls.sso.sso_relationship.weight', 'cls.predictions.transform.LayerNorm.bias', 'cls.predictions.transform.dense.bias', 'cls.predictions.decoder.weight']\n",
      "- This IS expected if you are initializing BertForSequenceClassification from the checkpoint of a model trained on another task or with another architecture (e.g. initializing a BertForSequenceClassification model from a BertForPreTraining model).\n",
      "- This IS NOT expected if you are initializing BertForSequenceClassification from the checkpoint of a model that you expect to be exactly identical (initializing a BertForSequenceClassification model from a BertForSequenceClassification model).\n",
      "Some weights of BertForSequenceClassification were not initialized from the model checkpoint at allegro/herbert-large-cased and are newly initialized: ['classifier.weight', 'classifier.bias']\n",
      "You should probably TRAIN this model on a down-stream task to be able to use it for predictions and inference.\n"
     ]
    }
   ],
   "source": [
    "model = transformers.AutoModelForSequenceClassification.from_pretrained(\n",
    "    \"allegro/herbert-large-cased\",\n",
    "    num_labels=num_labels,\n",
    "    id2label=id2label,\n",
    "    label2id=label2id\n",
    ")"
   ]
  },
  {
   "cell_type": "code",
   "execution_count": 44,
   "id": "70bfb3ad",
   "metadata": {},
   "outputs": [],
   "source": [
    "training_args = transformers.TrainingArguments(\n",
    "    output_dir=\"../resources\",\n",
    "    learning_rate=2e-5,\n",
    "    per_device_train_batch_size=16,\n",
    "    per_device_eval_batch_size=16,\n",
    "    num_train_epochs=2,\n",
    "    weight_decay=0.01,\n",
    "    evaluation_strategy=\"epoch\",\n",
    "    save_strategy=\"epoch\",\n",
    "    load_best_model_at_end=True,\n",
    "    push_to_hub=False,\n",
    ")"
   ]
  },
  {
   "cell_type": "code",
   "execution_count": 45,
   "id": "d0f87b76",
   "metadata": {},
   "outputs": [],
   "source": [
    "trainer = transformers.Trainer(\n",
    "    model=model,\n",
    "    args=training_args,\n",
    "    train_dataset=tokenized_dataset[\"train\"],\n",
    "    eval_dataset=tokenized_dataset[\"validation\"],\n",
    "    tokenizer=tokenizer,\n",
    "    data_collator=data_collator,\n",
    "    compute_metrics=compute_metrics,\n",
    ")"
   ]
  },
  {
   "cell_type": "code",
   "execution_count": 46,
   "id": "b2a7a21b",
   "metadata": {},
   "outputs": [
    {
     "name": "stderr",
     "output_type": "stream",
     "text": [
      "/home/rj/envs/intent/lib/python3.10/site-packages/transformers/optimization.py:411: FutureWarning: This implementation of AdamW is deprecated and will be removed in a future version. Use the PyTorch implementation torch.optim.AdamW instead, or set `no_deprecation_warning=True` to disable this warning\n",
      "  warnings.warn(\n"
     ]
    },
    {
     "data": {
      "text/html": [
       "\n",
       "    <div>\n",
       "      \n",
       "      <progress value='8' max='1440' style='width:300px; height:20px; vertical-align: middle;'></progress>\n",
       "      [   8/1440 00:27 < 1:50:52, 0.22 it/s, Epoch 0.01/2]\n",
       "    </div>\n",
       "    <table border=\"1\" class=\"dataframe\">\n",
       "  <thead>\n",
       " <tr style=\"text-align: left;\">\n",
       "      <th>Epoch</th>\n",
       "      <th>Training Loss</th>\n",
       "      <th>Validation Loss</th>\n",
       "    </tr>\n",
       "  </thead>\n",
       "  <tbody>\n",
       "  </tbody>\n",
       "</table><p>"
      ],
      "text/plain": [
       "<IPython.core.display.HTML object>"
      ]
     },
     "metadata": {},
     "output_type": "display_data"
    },
    {
     "ename": "KeyboardInterrupt",
     "evalue": "",
     "output_type": "error",
     "traceback": [
      "\u001b[0;31m---------------------------------------------------------------------------\u001b[0m",
      "\u001b[0;31mKeyboardInterrupt\u001b[0m                         Traceback (most recent call last)",
      "Cell \u001b[0;32mIn[46], line 1\u001b[0m\n\u001b[0;32m----> 1\u001b[0m \u001b[43mtrainer\u001b[49m\u001b[38;5;241;43m.\u001b[39;49m\u001b[43mtrain\u001b[49m\u001b[43m(\u001b[49m\u001b[43m)\u001b[49m\n",
      "File \u001b[0;32m~/envs/intent/lib/python3.10/site-packages/transformers/trainer.py:1645\u001b[0m, in \u001b[0;36mTrainer.train\u001b[0;34m(self, resume_from_checkpoint, trial, ignore_keys_for_eval, **kwargs)\u001b[0m\n\u001b[1;32m   1640\u001b[0m     \u001b[38;5;28mself\u001b[39m\u001b[38;5;241m.\u001b[39mmodel_wrapped \u001b[38;5;241m=\u001b[39m \u001b[38;5;28mself\u001b[39m\u001b[38;5;241m.\u001b[39mmodel\n\u001b[1;32m   1642\u001b[0m inner_training_loop \u001b[38;5;241m=\u001b[39m find_executable_batch_size(\n\u001b[1;32m   1643\u001b[0m     \u001b[38;5;28mself\u001b[39m\u001b[38;5;241m.\u001b[39m_inner_training_loop, \u001b[38;5;28mself\u001b[39m\u001b[38;5;241m.\u001b[39m_train_batch_size, args\u001b[38;5;241m.\u001b[39mauto_find_batch_size\n\u001b[1;32m   1644\u001b[0m )\n\u001b[0;32m-> 1645\u001b[0m \u001b[38;5;28;01mreturn\u001b[39;00m \u001b[43minner_training_loop\u001b[49m\u001b[43m(\u001b[49m\n\u001b[1;32m   1646\u001b[0m \u001b[43m    \u001b[49m\u001b[43margs\u001b[49m\u001b[38;5;241;43m=\u001b[39;49m\u001b[43margs\u001b[49m\u001b[43m,\u001b[49m\n\u001b[1;32m   1647\u001b[0m \u001b[43m    \u001b[49m\u001b[43mresume_from_checkpoint\u001b[49m\u001b[38;5;241;43m=\u001b[39;49m\u001b[43mresume_from_checkpoint\u001b[49m\u001b[43m,\u001b[49m\n\u001b[1;32m   1648\u001b[0m \u001b[43m    \u001b[49m\u001b[43mtrial\u001b[49m\u001b[38;5;241;43m=\u001b[39;49m\u001b[43mtrial\u001b[49m\u001b[43m,\u001b[49m\n\u001b[1;32m   1649\u001b[0m \u001b[43m    \u001b[49m\u001b[43mignore_keys_for_eval\u001b[49m\u001b[38;5;241;43m=\u001b[39;49m\u001b[43mignore_keys_for_eval\u001b[49m\u001b[43m,\u001b[49m\n\u001b[1;32m   1650\u001b[0m \u001b[43m\u001b[49m\u001b[43m)\u001b[49m\n",
      "File \u001b[0;32m~/envs/intent/lib/python3.10/site-packages/transformers/trainer.py:1987\u001b[0m, in \u001b[0;36mTrainer._inner_training_loop\u001b[0;34m(self, batch_size, args, resume_from_checkpoint, trial, ignore_keys_for_eval)\u001b[0m\n\u001b[1;32m   1982\u001b[0m         nn\u001b[38;5;241m.\u001b[39mutils\u001b[38;5;241m.\u001b[39mclip_grad_norm_(\n\u001b[1;32m   1983\u001b[0m             amp\u001b[38;5;241m.\u001b[39mmaster_params(\u001b[38;5;28mself\u001b[39m\u001b[38;5;241m.\u001b[39moptimizer),\n\u001b[1;32m   1984\u001b[0m             args\u001b[38;5;241m.\u001b[39mmax_grad_norm,\n\u001b[1;32m   1985\u001b[0m         )\n\u001b[1;32m   1986\u001b[0m     \u001b[38;5;28;01melse\u001b[39;00m:\n\u001b[0;32m-> 1987\u001b[0m         \u001b[38;5;28;43mself\u001b[39;49m\u001b[38;5;241;43m.\u001b[39;49m\u001b[43maccelerator\u001b[49m\u001b[38;5;241;43m.\u001b[39;49m\u001b[43mclip_grad_norm_\u001b[49m\u001b[43m(\u001b[49m\n\u001b[1;32m   1988\u001b[0m \u001b[43m            \u001b[49m\u001b[43mmodel\u001b[49m\u001b[38;5;241;43m.\u001b[39;49m\u001b[43mparameters\u001b[49m\u001b[43m(\u001b[49m\u001b[43m)\u001b[49m\u001b[43m,\u001b[49m\n\u001b[1;32m   1989\u001b[0m \u001b[43m            \u001b[49m\u001b[43margs\u001b[49m\u001b[38;5;241;43m.\u001b[39;49m\u001b[43mmax_grad_norm\u001b[49m\u001b[43m,\u001b[49m\n\u001b[1;32m   1990\u001b[0m \u001b[43m        \u001b[49m\u001b[43m)\u001b[49m\n\u001b[1;32m   1992\u001b[0m \u001b[38;5;66;03m# Optimizer step\u001b[39;00m\n\u001b[1;32m   1993\u001b[0m optimizer_was_run \u001b[38;5;241m=\u001b[39m \u001b[38;5;28;01mTrue\u001b[39;00m\n",
      "File \u001b[0;32m~/envs/intent/lib/python3.10/site-packages/accelerate/accelerator.py:1894\u001b[0m, in \u001b[0;36mAccelerator.clip_grad_norm_\u001b[0;34m(self, parameters, max_norm, norm_type)\u001b[0m\n\u001b[1;32m   1892\u001b[0m     \u001b[38;5;28;01mreturn\u001b[39;00m \u001b[38;5;28;01mNone\u001b[39;00m\n\u001b[1;32m   1893\u001b[0m \u001b[38;5;28mself\u001b[39m\u001b[38;5;241m.\u001b[39munscale_gradients()\n\u001b[0;32m-> 1894\u001b[0m \u001b[38;5;28;01mreturn\u001b[39;00m \u001b[43mtorch\u001b[49m\u001b[38;5;241;43m.\u001b[39;49m\u001b[43mnn\u001b[49m\u001b[38;5;241;43m.\u001b[39;49m\u001b[43mutils\u001b[49m\u001b[38;5;241;43m.\u001b[39;49m\u001b[43mclip_grad_norm_\u001b[49m\u001b[43m(\u001b[49m\u001b[43mparameters\u001b[49m\u001b[43m,\u001b[49m\u001b[43m \u001b[49m\u001b[43mmax_norm\u001b[49m\u001b[43m,\u001b[49m\u001b[43m \u001b[49m\u001b[43mnorm_type\u001b[49m\u001b[38;5;241;43m=\u001b[39;49m\u001b[43mnorm_type\u001b[49m\u001b[43m)\u001b[49m\n",
      "File \u001b[0;32m~/envs/intent/lib/python3.10/site-packages/torch/nn/utils/clip_grad.py:55\u001b[0m, in \u001b[0;36mclip_grad_norm_\u001b[0;34m(parameters, max_norm, norm_type, error_if_nonfinite, foreach)\u001b[0m\n\u001b[1;32m     53\u001b[0m \u001b[38;5;28;01mfor\u001b[39;00m ((device, _), [grads]) \u001b[38;5;129;01min\u001b[39;00m grouped_grads\u001b[38;5;241m.\u001b[39mitems():\n\u001b[1;32m     54\u001b[0m     \u001b[38;5;28;01mif\u001b[39;00m (foreach \u001b[38;5;129;01mis\u001b[39;00m \u001b[38;5;28;01mNone\u001b[39;00m \u001b[38;5;129;01mor\u001b[39;00m foreach) \u001b[38;5;129;01mand\u001b[39;00m _has_foreach_support(grads, device\u001b[38;5;241m=\u001b[39mdevice):\n\u001b[0;32m---> 55\u001b[0m         norms\u001b[38;5;241m.\u001b[39mextend(\u001b[43mtorch\u001b[49m\u001b[38;5;241;43m.\u001b[39;49m\u001b[43m_foreach_norm\u001b[49m\u001b[43m(\u001b[49m\u001b[43mgrads\u001b[49m\u001b[43m,\u001b[49m\u001b[43m \u001b[49m\u001b[43mnorm_type\u001b[49m\u001b[43m)\u001b[49m)\n\u001b[1;32m     56\u001b[0m     \u001b[38;5;28;01melif\u001b[39;00m foreach:\n\u001b[1;32m     57\u001b[0m         \u001b[38;5;28;01mraise\u001b[39;00m \u001b[38;5;167;01mRuntimeError\u001b[39;00m(\u001b[38;5;124mf\u001b[39m\u001b[38;5;124m'\u001b[39m\u001b[38;5;124mforeach=True was passed, but can\u001b[39m\u001b[38;5;130;01m\\'\u001b[39;00m\u001b[38;5;124mt use the foreach API on \u001b[39m\u001b[38;5;132;01m{\u001b[39;00mdevice\u001b[38;5;241m.\u001b[39mtype\u001b[38;5;132;01m}\u001b[39;00m\u001b[38;5;124m tensors\u001b[39m\u001b[38;5;124m'\u001b[39m)\n",
      "\u001b[0;31mKeyboardInterrupt\u001b[0m: "
     ]
    }
   ],
   "source": [
    "trainer.train()"
   ]
  },
  {
   "cell_type": "code",
   "execution_count": null,
   "id": "31165117",
   "metadata": {},
   "outputs": [],
   "source": []
  }
 ],
 "metadata": {
  "kernelspec": {
   "display_name": "Python 3 (ipykernel)",
   "language": "python",
   "name": "python3"
  },
  "language_info": {
   "codemirror_mode": {
    "name": "ipython",
    "version": 3
   },
   "file_extension": ".py",
   "mimetype": "text/x-python",
   "name": "python",
   "nbconvert_exporter": "python",
   "pygments_lexer": "ipython3",
   "version": "3.10.6"
  }
 },
 "nbformat": 4,
 "nbformat_minor": 5
}
